{
 "cells": [
  {
   "cell_type": "code",
   "execution_count": null,
   "id": "6a9e9f5945c1b169",
   "metadata": {},
   "outputs": [],
   "source": []
  },
  {
   "cell_type": "markdown",
   "id": "f074d6bd-1963-4e4f-bd36-a9f17e581a5d",
   "metadata": {},
   "source": [
    "# Exercise: Exploratory Data Analysis with Pandas\n",
    "## Instructions\n",
    "1. Data Collection\n",
    "    - Search and collect data on the following: (1993 - 2023)\n",
    "        - Israel interest tares\n",
    "        - US interest rates\n",
    "        - USD to ILS exchange rates\n",
    "    - For each dataset, create a pandas DataFrame with the following columns:\n",
    "        - Year\n",
    "        - Month\n",
    "        - Current_Rate (Interest rate or exchange rate for that month)\n",
    "        - Change_From_Last_Month (Difference in Current_Rate from the previous month)\n",
    "        - Optional: You may include additional columns if you find them useful (e.g., Change_Percentage, Date).\n",
    "\n"
   ]
  },
  {
   "cell_type": "code",
   "execution_count": 2,
   "id": "8fb38157aa6333f3",
   "metadata": {},
   "outputs": [],
   "source": [
    "import numpy as np\n",
    "import pandas as pd"
   ]
  },
  {
   "cell_type": "code",
   "execution_count": 53,
   "id": "a5f81c48-4d2d-4a77-bbc2-6ea16e473c70",
   "metadata": {},
   "outputs": [
    {
     "data": {
      "text/html": [
       "<div>\n",
       "<style scoped>\n",
       "    .dataframe tbody tr th:only-of-type {\n",
       "        vertical-align: middle;\n",
       "    }\n",
       "\n",
       "    .dataframe tbody tr th {\n",
       "        vertical-align: top;\n",
       "    }\n",
       "\n",
       "    .dataframe thead th {\n",
       "        text-align: right;\n",
       "    }\n",
       "</style>\n",
       "<table border=\"1\" class=\"dataframe\">\n",
       "  <thead>\n",
       "    <tr style=\"text-align: right;\">\n",
       "      <th></th>\n",
       "      <th>Year</th>\n",
       "      <th>Month</th>\n",
       "      <th>Current_Rate</th>\n",
       "      <th>Change_From_Last_Month</th>\n",
       "    </tr>\n",
       "  </thead>\n",
       "  <tbody>\n",
       "    <tr>\n",
       "      <th>379</th>\n",
       "      <td>2023</td>\n",
       "      <td>8</td>\n",
       "      <td>4.655301</td>\n",
       "      <td>0.059872</td>\n",
       "    </tr>\n",
       "    <tr>\n",
       "      <th>380</th>\n",
       "      <td>2023</td>\n",
       "      <td>9</td>\n",
       "      <td>4.639770</td>\n",
       "      <td>-0.015531</td>\n",
       "    </tr>\n",
       "    <tr>\n",
       "      <th>381</th>\n",
       "      <td>2023</td>\n",
       "      <td>10</td>\n",
       "      <td>4.551020</td>\n",
       "      <td>-0.088751</td>\n",
       "    </tr>\n",
       "    <tr>\n",
       "      <th>382</th>\n",
       "      <td>2023</td>\n",
       "      <td>11</td>\n",
       "      <td>4.523561</td>\n",
       "      <td>-0.027459</td>\n",
       "    </tr>\n",
       "    <tr>\n",
       "      <th>383</th>\n",
       "      <td>2023</td>\n",
       "      <td>12</td>\n",
       "      <td>4.488699</td>\n",
       "      <td>-0.034862</td>\n",
       "    </tr>\n",
       "  </tbody>\n",
       "</table>\n",
       "</div>"
      ],
      "text/plain": [
       "     Year  Month  Current_Rate  Change_From_Last_Month\n",
       "379  2023      8      4.655301                0.059872\n",
       "380  2023      9      4.639770               -0.015531\n",
       "381  2023     10      4.551020               -0.088751\n",
       "382  2023     11      4.523561               -0.027459\n",
       "383  2023     12      4.488699               -0.034862"
      ]
     },
     "execution_count": 53,
     "metadata": {},
     "output_type": "execute_result"
    }
   ],
   "source": [
    "israel_interset = pd.read_csv('./israel_interest.csv', parse_dates=['DATE'])\n",
    "us_interset = pd.read_csv('./us_interset.csv', parse_dates=['DATE'])\n",
    "usd_ils_comparation = pd.read_csv('./conversion_ratio.csv', parse_dates=['DATE'])\n",
    "\n",
    "dt_arr = [israel_interset, us_interset, usd_ils_comparation]\n",
    "\n",
    "for i in range(len(dt_arr)):\n",
    "    dt_arr[i]['Year'] = dt_arr[i]['DATE'].dt.year\n",
    "    dt_arr[i]['Month'] = dt_arr[i]['DATE'].dt.month\n",
    "    dt_arr[i] = dt_arr[i].rename(columns={'CURRENT_RATE': 'Current_Rate'})\n",
    "    dt_arr[i]['Change_From_Last_Month'] = dt_arr[i]['Current_Rate'].diff()\n",
    "    dt_arr[i] = dt_arr[i][['Year', 'Month', 'Current_Rate', 'Change_From_Last_Month']]\n",
    "    dt_arr[i] = dt_arr[i][dt_arr[i]['Year'].between(1993, 2023)]\n",
    "\n",
    "israel_interset = dt_arr[0]\n",
    "us_interset = dt_arr[1]\n",
    "usd_ils_comparation = dt_arr[2]"
   ]
  },
  {
   "cell_type": "markdown",
   "id": "71323c7318598fbb",
   "metadata": {},
   "source": [
    "## Part A: Single DataFrame Analysis \n",
    "1. Display the first 5 rows of the US interest rates DataFrame.\n",
    "\n",
    "2. Calculate the average Israeli interest rate over the period covered by your data.\n",
    "\n",
    "3. Find the month and year when the USD to ILS exchange rate had the highest increase from the previous month.\n",
    "\n",
    "4. Determine the total number of months where the US interest rate decreased compared to the previous month.\n",
    "\n",
    "5. Add a new column to the Israeli interest rates DataFrame called Change_Percentage, representing the percentage change from the previous month.\n",
    "\n"
   ]
  },
  {
   "cell_type": "code",
   "execution_count": 48,
   "id": "399887d7fba8803a",
   "metadata": {
    "ExecuteTime": {
     "end_time": "2024-11-07T00:06:28.045691Z",
     "start_time": "2024-11-07T00:06:28.043900Z"
    }
   },
   "outputs": [],
   "source": [
    "# A - 1\n",
    "us_interset.head()"
   ]
  },
  {
   "cell_type": "code",
   "execution_count": 72,
   "id": "91d022cc344514de",
   "metadata": {
    "ExecuteTime": {
     "end_time": "2024-11-07T00:06:49.986484Z",
     "start_time": "2024-11-07T00:06:49.984372Z"
    }
   },
   "outputs": [],
   "source": [
    "# A - 2\n",
    "israel_interset['Current_Rate'].mean()"
   ]
  },
  {
   "cell_type": "code",
   "execution_count": 60,
   "id": "c29c363cd4e9a279",
   "metadata": {
    "ExecuteTime": {
     "end_time": "2024-11-07T00:06:53.867357Z",
     "start_time": "2024-11-07T00:06:53.865505Z"
    }
   },
   "outputs": [],
   "source": [
    "# A - 3\n",
    "usd_ils_comparation.loc[usd_ils_comparation['Change_From_Last_Month'].idxmax()]"
   ]
  },
  {
   "cell_type": "code",
   "execution_count": 69,
   "id": "c4c8ec122d04672",
   "metadata": {
    "ExecuteTime": {
     "end_time": "2024-11-07T00:06:56.963009Z",
     "start_time": "2024-11-07T00:06:56.960675Z"
    }
   },
   "outputs": [
    {
     "data": {
      "text/plain": [
       "123"
      ]
     },
     "execution_count": 69,
     "metadata": {},
     "output_type": "execute_result"
    }
   ],
   "source": [
    "# A - 4\n",
    "us_interset[us_interset['Change_From_Last_Month'] < 0].shape[0]"
   ]
  },
  {
   "cell_type": "code",
   "execution_count": 81,
   "id": "49115d5dbff52532",
   "metadata": {},
   "outputs": [],
   "source": [
    "# A - 5\n",
    "israel_interset['Change_Percentage'] = israel_interset['Current_Rate'].pct_change() * 100"
   ]
  },
  {
   "cell_type": "markdown",
   "id": "37324394ba9e1454",
   "metadata": {},
   "source": [
    "## Part B: Merging DataFrames\n",
    "1. Merge the US and Israeli interest rates DataFrames on Year and Month.\n",
    "\n",
    "2. In the merged DataFrame, create a new column Rate_Difference that shows the difference between the Israeli and US interest rates for each month.\n",
    "\n",
    "3. Identify all months when the Israeli interest rate was at least 1% higher than the US interest rate - IH (Israeli Higher).\n",
    "Identify all months when the US interest rate was at least 1% higher than the Israeli interest rate - UH (US Higher).\n",
    "Identify all months when the interest rates were within 1% of each other - N (Near)\n",
    "make a new column called Rate_Comparison with the following values: IH, UH, or N.\n",
    "\n",
    "4. Merge the exchange rate DataFrame with the merged interest rates DataFrame.\n",
    "\n",
    "5. After merging all three DataFrames, find the correlation between the Rate_Difference and the Current_Rate of the exchange rate.\n",
    "hint: find the connection between the difference in interest rates and the exchange rates, use any method you think is appropriate.\n",
    "provide an explanation of the results (in Hebrew) - at least 2 rows of text + a proof of the connection(some output) you found.\n"
   ]
  },
  {
   "cell_type": "code",
   "execution_count": 96,
   "id": "f6fcdba8d4d32d73",
   "metadata": {
    "ExecuteTime": {
     "end_time": "2024-11-07T00:06:02.968903Z",
     "start_time": "2024-11-07T00:06:02.967090Z"
    }
   },
   "outputs": [],
   "source": [
    "# B - 1\n",
    "interest_merged_dt = pd.merge(us_interset, israel_interset, on=['Year', 'Month'], how='inner')\n",
    "interest_merged_dt = interest_merged_dt.rename(columns={\n",
    "    'Current_Rate_x': 'US_Current_Rate',\n",
    "    'Change_From_Last_Month_x': 'US_Change_From_Last_Month',\n",
    "    'Current_Rate_y': 'IS_Current_Rate',\n",
    "    'Change_From_Last_Month_y': 'IS_Change_From_Last_Month',\n",
    "    'Change_Percentage': 'IS_Change_Percentage'\n",
    "})"
   ]
  },
  {
   "cell_type": "code",
   "execution_count": 100,
   "id": "7f18978fee56c6d6",
   "metadata": {
    "ExecuteTime": {
     "end_time": "2024-11-07T00:06:08.105790Z",
     "start_time": "2024-11-07T00:06:08.103620Z"
    }
   },
   "outputs": [],
   "source": [
    "# B - 2\n",
    "interest_merged_dt['Rate_Difference'] =  interest_merged_dt['US_Current_Rate'] - interest_merged_dt['IS_Current_Rate']"
   ]
  },
  {
   "cell_type": "code",
   "execution_count": 106,
   "id": "c6dcf835650149bf",
   "metadata": {
    "ExecuteTime": {
     "end_time": "2024-11-07T00:06:10.259079Z",
     "start_time": "2024-11-07T00:06:10.257004Z"
    }
   },
   "outputs": [],
   "source": [
    "# B - 3\n",
    "interest_merged_dt['Rate_Difference'] = interest_merged_dt['IS_Current_Rate'] - interest_merged_dt['US_Current_Rate']\n",
    "\n",
    "interest_merged_dt['Rate_Comparison'] = np.where(\n",
    "    interest_merged_dt['Rate_Difference'] > 1, 'IH',\n",
    "    np.where(interest_merged_dt['Rate_Difference'] < -1, 'UH', 'N')\n",
    ")"
   ]
  },
  {
   "cell_type": "code",
   "execution_count": 111,
   "id": "3145d351d7cbe982",
   "metadata": {
    "ExecuteTime": {
     "end_time": "2024-11-07T00:06:12.381548Z",
     "start_time": "2024-11-07T00:06:12.379873Z"
    }
   },
   "outputs": [
    {
     "data": {
      "text/html": [
       "<div>\n",
       "<style scoped>\n",
       "    .dataframe tbody tr th:only-of-type {\n",
       "        vertical-align: middle;\n",
       "    }\n",
       "\n",
       "    .dataframe tbody tr th {\n",
       "        vertical-align: top;\n",
       "    }\n",
       "\n",
       "    .dataframe thead th {\n",
       "        text-align: right;\n",
       "    }\n",
       "</style>\n",
       "<table border=\"1\" class=\"dataframe\">\n",
       "  <thead>\n",
       "    <tr style=\"text-align: right;\">\n",
       "      <th></th>\n",
       "      <th>Year</th>\n",
       "      <th>Month</th>\n",
       "      <th>US_Current_Rate</th>\n",
       "      <th>US_Change_From_Last_Month</th>\n",
       "      <th>IS_Current_Rate</th>\n",
       "      <th>IS_Change_From_Last_Month</th>\n",
       "      <th>IS_Change_Percentage</th>\n",
       "      <th>Rate_Difference</th>\n",
       "      <th>Rate_Comparison</th>\n",
       "      <th>USD_ILS_Current_Rate</th>\n",
       "      <th>USD_ILS_Change_From_Last_Month</th>\n",
       "    </tr>\n",
       "  </thead>\n",
       "  <tbody>\n",
       "    <tr>\n",
       "      <th>0</th>\n",
       "      <td>1993</td>\n",
       "      <td>1</td>\n",
       "      <td>3.02</td>\n",
       "      <td>NaN</td>\n",
       "      <td>11.547143</td>\n",
       "      <td>0.657578</td>\n",
       "      <td>NaN</td>\n",
       "      <td>8.527143</td>\n",
       "      <td>IH</td>\n",
       "      <td>2.765</td>\n",
       "      <td>0.001</td>\n",
       "    </tr>\n",
       "    <tr>\n",
       "      <th>1</th>\n",
       "      <td>1993</td>\n",
       "      <td>2</td>\n",
       "      <td>3.03</td>\n",
       "      <td>0.01</td>\n",
       "      <td>12.325500</td>\n",
       "      <td>0.778357</td>\n",
       "      <td>6.740690</td>\n",
       "      <td>9.295500</td>\n",
       "      <td>IH</td>\n",
       "      <td>2.795</td>\n",
       "      <td>0.030</td>\n",
       "    </tr>\n",
       "    <tr>\n",
       "      <th>2</th>\n",
       "      <td>1993</td>\n",
       "      <td>3</td>\n",
       "      <td>3.07</td>\n",
       "      <td>0.04</td>\n",
       "      <td>11.845000</td>\n",
       "      <td>-0.480500</td>\n",
       "      <td>-3.898422</td>\n",
       "      <td>8.775000</td>\n",
       "      <td>IH</td>\n",
       "      <td>2.768</td>\n",
       "      <td>-0.027</td>\n",
       "    </tr>\n",
       "    <tr>\n",
       "      <th>3</th>\n",
       "      <td>1993</td>\n",
       "      <td>4</td>\n",
       "      <td>2.96</td>\n",
       "      <td>-0.11</td>\n",
       "      <td>11.925333</td>\n",
       "      <td>0.080333</td>\n",
       "      <td>0.678205</td>\n",
       "      <td>8.965333</td>\n",
       "      <td>IH</td>\n",
       "      <td>2.728</td>\n",
       "      <td>-0.040</td>\n",
       "    </tr>\n",
       "    <tr>\n",
       "      <th>4</th>\n",
       "      <td>1993</td>\n",
       "      <td>5</td>\n",
       "      <td>3.00</td>\n",
       "      <td>0.04</td>\n",
       "      <td>12.079524</td>\n",
       "      <td>0.154190</td>\n",
       "      <td>1.292966</td>\n",
       "      <td>9.079524</td>\n",
       "      <td>IH</td>\n",
       "      <td>2.729</td>\n",
       "      <td>0.001</td>\n",
       "    </tr>\n",
       "  </tbody>\n",
       "</table>\n",
       "</div>"
      ],
      "text/plain": [
       "   Year  Month  US_Current_Rate  US_Change_From_Last_Month  IS_Current_Rate  \\\n",
       "0  1993      1             3.02                        NaN        11.547143   \n",
       "1  1993      2             3.03                       0.01        12.325500   \n",
       "2  1993      3             3.07                       0.04        11.845000   \n",
       "3  1993      4             2.96                      -0.11        11.925333   \n",
       "4  1993      5             3.00                       0.04        12.079524   \n",
       "\n",
       "   IS_Change_From_Last_Month  IS_Change_Percentage  Rate_Difference  \\\n",
       "0                   0.657578                   NaN         8.527143   \n",
       "1                   0.778357              6.740690         9.295500   \n",
       "2                  -0.480500             -3.898422         8.775000   \n",
       "3                   0.080333              0.678205         8.965333   \n",
       "4                   0.154190              1.292966         9.079524   \n",
       "\n",
       "  Rate_Comparison  USD_ILS_Current_Rate  USD_ILS_Change_From_Last_Month  \n",
       "0              IH                 2.765                           0.001  \n",
       "1              IH                 2.795                           0.030  \n",
       "2              IH                 2.768                          -0.027  \n",
       "3              IH                 2.728                          -0.040  \n",
       "4              IH                 2.729                           0.001  "
      ]
     },
     "execution_count": 111,
     "metadata": {},
     "output_type": "execute_result"
    }
   ],
   "source": [
    "# B - 4\n",
    "main_merged_dt = pd.merge(interest_merged_dt, usd_ils_comparation, on=['Year', 'Month'], how='inner')\n",
    "main_merged_dt = main_merged_dt.rename(columns={\n",
    "    'Current_Rate': 'USD_ILS_Current_Rate',\n",
    "    'Change_From_Last_Month': 'USD_ILS_Change_From_Last_Month'\n",
    "})\n",
    "\n",
    "main_merged_dt.head()"
   ]
  },
  {
   "cell_type": "code",
   "execution_count": 121,
   "id": "fe04eba74c68ab35",
   "metadata": {
    "ExecuteTime": {
     "end_time": "2024-11-07T00:06:37.878612Z",
     "start_time": "2024-11-07T00:06:37.876775Z"
    }
   },
   "outputs": [
    {
     "data": {
      "text/plain": [
       "-0.20560996003882268"
      ]
     },
     "execution_count": 121,
     "metadata": {},
     "output_type": "execute_result"
    }
   ],
   "source": [
    "# B - 5\n",
    "correlation = main_merged_dt[['Rate_Difference', 'USD_ILS_Current_Rate']].corr().iloc[0, 1]\n",
    "correlation\n",
    "#-0.205 יצא לנו\n",
    "#זה אומר שכשהריבית בישראל גובהה יותר מארה\"ב שער הדולר-שקל ירד, אבל מכיוון שהתוצאה יחסית קרובה ל0 אז זה אומר שהקשר הוא לא וודאי"
   ]
  },
  {
   "cell_type": "markdown",
   "id": "22213f81bdf06965",
   "metadata": {},
   "source": [
    "## Part C: Analyzing Relationships Between DataFrames\n",
    "1. Analyze whether increases in US interest rates are associated with increases or decreases in the USD to ILS exchange rate in the same month.\n",
    "\n",
    "2. Determine if changes in the Israeli interest rate have a stronger impact on the exchange rate than changes in the US interest rate.\n",
    "\n",
    "3. Find any time lags in the effect of interest rate changes on the exchange rate. For example, does a change in US interest rates affect the exchange rate in the following month?\n",
    "(כלומר- האם כשיש שינוי בריבית כלשהי - האם מייד יש שינוי בשער ההמרה? או שיש דיליי של חודש/חודשים עד שמרגישים את ההשפעה - אם בכלל?)\n",
    "\n",
    "4. Calculate the rolling past 3-month average of the exchange rate for each data time, and add it as a new column.\n",
    "\n",
    "5. Identify any periods where both US and Israeli interest rates were decreasing, and analyze how the exchange rate behaved during those periods.\n",
    "\n"
   ]
  },
  {
   "cell_type": "code",
   "execution_count": 122,
   "id": "706a690fd803211c",
   "metadata": {},
   "outputs": [
    {
     "data": {
      "text/plain": [
       "-0.014360400900506942"
      ]
     },
     "execution_count": 122,
     "metadata": {},
     "output_type": "execute_result"
    }
   ],
   "source": [
    "# 1\n",
    "correlation = main_merged_dt['US_Current_Rate'].corr(main_merged_dt['USD_ILS_Current_Rate'])\n",
    "correlation"
   ]
  },
  {
   "cell_type": "code",
   "execution_count": 125,
   "id": "9be1b838-02b0-419c-a647-3f732427687b",
   "metadata": {},
   "outputs": [
    {
     "name": "stdout",
     "output_type": "stream",
     "text": [
      "correlation_us_change: -0.04418886507363818\n",
      "correlation_israel_change: -0.10173044446960712\n"
     ]
    }
   ],
   "source": [
    "#2\n",
    "\n",
    "correlation_us_change = main_merged_dt['US_Change_From_Last_Month'].corr(main_merged_dt['USD_ILS_Change_From_Last_Month'])\n",
    "correlation_israel_change = main_merged_dt['IS_Change_From_Last_Month'].corr(main_merged_dt['USD_ILS_Change_From_Last_Month'])\n",
    "\n",
    "print(f\"correlation_us_change: {correlation_us_change}\")\n",
    "print(f\"correlation_israel_change: {correlation_israel_change}\")"
   ]
  },
  {
   "cell_type": "code",
   "execution_count": 127,
   "id": "7cf0562d-3508-4569-87aa-e4ec0f98f5e4",
   "metadata": {},
   "outputs": [
    {
     "name": "stdout",
     "output_type": "stream",
     "text": [
      "correlation_us_change_lag:  0.03375291037857664\n",
      "correlation_israel_change_lag:  -0.08475600468831979\n"
     ]
    }
   ],
   "source": [
    "#3\n",
    "main_merged_dt['US_Change_Lag_1'] = main_merged_dt['US_Change_From_Last_Month'].shift(1)\n",
    "main_merged_dt['IS_Change_Lag_1'] = main_merged_dt['IS_Change_From_Last_Month'].shift(1)\n",
    "main_merged_dt['USD_ILS_Change_Lag_1'] = main_merged_dt['USD_ILS_Change_From_Last_Month'].shift(1)\n",
    "\n",
    "\n",
    "correlation_us_change_lag = main_merged_dt['US_Change_Lag_1'].corr(main_merged_dt['USD_ILS_Change_From_Last_Month'])\n",
    "correlation_israel_change_lag = main_merged_dt['IS_Change_Lag_1'].corr(main_merged_dt['USD_ILS_Change_From_Last_Month'])\n",
    "\n",
    "print(\"correlation_us_change_lag: \", correlation_us_change_lag)\n",
    "print(\"correlation_israel_change_lag: \", correlation_israel_change_lag)"
   ]
  },
  {
   "cell_type": "code",
   "execution_count": 136,
   "id": "3a32319c-2f13-4917-8a55-db6937f99477",
   "metadata": {},
   "outputs": [],
   "source": [
    "#4\n",
    "main_merged_dt['USD_ILS_Rolling_3Month_Avg'] = main_merged_dt['USD_ILS_Current_Rate'].rolling(window=3).mean()"
   ]
  },
  {
   "cell_type": "markdown",
   "id": "8be22debf92d8f3a",
   "metadata": {},
   "source": [
    "# Bonus\n",
    "choose 3 global / local events or periods that you think could have affected the exchange rate or interest rates\n",
    "and analyze the effect of these events on the data you collected.\n",
    "show proof of your analysis that supports your claim.\n",
    "\n",
    "(כלומר- תבחנו אירועים שקרו בתקופה שאתם עובדים עליה ובדקו איך הם השפיעו על הנתונים שאתם עובדים איתם)\n",
    "למשל: בחירות בארה״ב, בחירות בישראל, רוסיה אוקראינה, מלחמות בישראל וכו׳."
   ]
  },
  {
   "cell_type": "code",
   "execution_count": null,
   "id": "7cd992b43f3700e8",
   "metadata": {},
   "outputs": [],
   "source": [
    "# Your code here"
   ]
  }
 ],
 "metadata": {
  "kernelspec": {
   "display_name": "Python 3 (ipykernel)",
   "language": "python",
   "name": "python3"
  },
  "language_info": {
   "codemirror_mode": {
    "name": "ipython",
    "version": 3
   },
   "file_extension": ".py",
   "mimetype": "text/x-python",
   "name": "python",
   "nbconvert_exporter": "python",
   "pygments_lexer": "ipython3",
   "version": "3.11.6"
  }
 },
 "nbformat": 4,
 "nbformat_minor": 5
}
